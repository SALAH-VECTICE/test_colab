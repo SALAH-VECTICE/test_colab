{
  "nbformat": 4,
  "nbformat_minor": 0,
  "metadata": {
    "colab": {
      "name": "Copie de Handwritten_Digit_Recognition_with_keras_vectice_users.ipynb",
      "provenance": [],
      "collapsed_sections": [],
      "authorship_tag": "ABX9TyPmupUqYtreGX6EdT/NNW2d",
      "include_colab_link": true
    },
    "kernelspec": {
      "name": "python3",
      "display_name": "Python 3"
    },
    "language_info": {
      "name": "python"
    }
  },
  "cells": [
    {
      "cell_type": "markdown",
      "metadata": {
        "id": "view-in-github",
        "colab_type": "text"
      },
      "source": [
        "<a href=\"https://colab.research.google.com/github/SALAH-VECTICE/test_colab/blob/main/Copie_de_Handwritten_Digit_Recognition_with_keras_vectice_users.ipynb\" target=\"_parent\"><img src=\"https://colab.research.google.com/assets/colab-badge.svg\" alt=\"Open In Colab\"/></a>"
      ]
    },
    {
      "cell_type": "markdown",
      "metadata": {
        "id": "1mRYJHN19aar"
      },
      "source": [
        "# Handwritten digits recognition \n",
        "\n"
      ]
    },
    {
      "cell_type": "markdown",
      "metadata": {
        "id": "bsA4pNFZ9gvA"
      },
      "source": [
        "## What this is about?\n",
        "The handwritten digit recognition is the ability of computers to recognize human handwritten digits. Handwritten digits are not perfectly written which makes it hard for machine to recognize them. Handwritten digits recognition could be a solution for several problems, such as those which use the image of a digit and recognizes the digit present in the image, for example."
      ]
    },
    {
      "cell_type": "markdown",
      "metadata": {
        "id": "PH52e51crcqI"
      },
      "source": [
        "## Install vectice "
      ]
    },
    {
      "cell_type": "markdown",
      "metadata": {
        "id": "6uOw7EUDBONh"
      },
      "source": [
        "Vectice provides a generic metadata layer that is potentially suitable for most data science workflows.\n",
        "\n",
        "For this tutorial we will use the keras library for modeling and track experiments directly through our Python SDK to illustrate how to fine-tune exactly what you would like to track: metrics, etc. The same mechanisms would apply to R, Java or even more generic REST APIs to track metadata from any programming language and library."
      ]
    },
    {
      "cell_type": "markdown",
      "metadata": {
        "id": "5MRj2eWBq38E"
      },
      "source": [
        "Here is a link to the Python SDK Documentation, it's not final nor complete and it is updated as we go along. \n",
        "[Python SDK Documentation](https://storage.googleapis.com/sdk-documentation/index.html)"
      ]
    },
    {
      "cell_type": "code",
      "metadata": {
        "id": "ko8fphPjZI3x",
        "colab": {
          "base_uri": "https://localhost:8080/"
        },
        "outputId": "6f8b3e70-0f9d-4b9f-bd51-cc00b4f166c7"
      },
      "source": [
        "!pip3 install -q vectice"
      ],
      "execution_count": 1,
      "outputs": [
        {
          "output_type": "stream",
          "text": [
            "\u001b[K     |████████████████████████████████| 51kB 4.6MB/s \n",
            "\u001b[K     |████████████████████████████████| 174kB 31.2MB/s \n",
            "\u001b[K     |████████████████████████████████| 296kB 29.2MB/s \n",
            "\u001b[K     |████████████████████████████████| 71kB 8.0MB/s \n",
            "\u001b[K     |████████████████████████████████| 962kB 31.5MB/s \n",
            "\u001b[?25h"
          ],
          "name": "stdout"
        }
      ]
    },
    {
      "cell_type": "code",
      "metadata": {
        "id": "obfp9uQ9k1CK",
        "colab": {
          "base_uri": "https://localhost:8080/"
        },
        "outputId": "37486180-f864-4529-e388-9e860fcef946"
      },
      "source": [
        "!pip show vectice"
      ],
      "execution_count": 2,
      "outputs": [
        {
          "output_type": "stream",
          "text": [
            "Name: vectice\n",
            "Version: 0.0.6\n",
            "Summary: Vectice Python library\n",
            "Home-page: https://github.com/vectice/vectice-python\n",
            "Author: Vectice Inc\n",
            "Author-email: sdk@vectice.com\n",
            "License: Apache License 2.0\n",
            "Location: /usr/local/lib/python3.7/dist-packages\n",
            "Requires: python-dotenv, PyGithub, GitPython, requests\n",
            "Required-by: \n"
          ],
          "name": "stdout"
        }
      ]
    },
    {
      "cell_type": "markdown",
      "metadata": {
        "id": "rznOZr-Hr8Ek"
      },
      "source": [
        "## Install the necessary libraries for this project"
      ]
    },
    {
      "cell_type": "code",
      "metadata": {
        "id": "_3m2n6DqZ6Ok"
      },
      "source": [
        "!pip3 install -q tensorflow\n",
        "!pip3 install -q keras\n",
        "!pip3 install -q pillow\n",
        "!pip3 install -q numpy"
      ],
      "execution_count": 3,
      "outputs": []
    },
    {
      "cell_type": "markdown",
      "metadata": {
        "id": "6zcRODIwalUC"
      },
      "source": [
        "## Import the libraries and the dataset"
      ]
    },
    {
      "cell_type": "code",
      "metadata": {
        "id": "SkOc3DKqahaW"
      },
      "source": [
        "# organize imports\n",
        "import numpy as np\n",
        "import matplotlib.pyplot as plt\n",
        "import os\n",
        "from keras.models import Sequential\n",
        "from keras.layers.core import Dense, Activation, Dropout\n",
        "from keras.datasets import mnist\n",
        "from keras.utils import np_utils\n",
        "from vectice.models import JobType\n",
        "\n",
        "# fix a random seed for reproducibility\n",
        "np.random.seed(9)"
      ],
      "execution_count": 4,
      "outputs": []
    },
    {
      "cell_type": "markdown",
      "metadata": {
        "id": "GxOa4vmKscMO"
      },
      "source": [
        "## User inputs for the model"
      ]
    },
    {
      "cell_type": "code",
      "metadata": {
        "id": "RzvbWiLNg4iX"
      },
      "source": [
        "# user inputs\n",
        "nb_epoch = 25\n",
        "num_classes = 10\n",
        "batch_size = 128\n",
        "train_size = 60000\n",
        "test_size = 10000\n",
        "v_length = 784\n",
        "\n"
      ],
      "execution_count": 5,
      "outputs": []
    },
    {
      "cell_type": "markdown",
      "metadata": {
        "id": "WcR0FVdqYN_E"
      },
      "source": [
        "- **nb_epoch**: Number of epochs. An epoch is an arbitrary cutoff, generally defined as \"one pass over the entire dataset\", used to separate training into distinct phases, which is useful for logging and periodic evaluation.\n",
        "- **num_classes**: Digits classes (from 0 to 9)\n",
        "- **bacth_size**: It defines the number of samples that will be propagated through the network. For exampe, if we have 1000 training samples, with a batch_size of 100 the model will train on the first 100 training samples then, the second 100 training sample on so on to the end of the training set. \n",
        "- **train_size**: Number of images in the training set\n",
        "- **test_size**: Number of images in the test set\n",
        "- **v_length**: Dimension of flattened input image size i.e. if input image size is [28x28], then v_length = 784"
      ]
    },
    {
      "cell_type": "markdown",
      "metadata": {
        "id": "4XPvr10FshxQ"
      },
      "source": [
        "## Process the data"
      ]
    },
    {
      "cell_type": "markdown",
      "metadata": {
        "id": "d3X8O7nJD86L"
      },
      "source": [
        "In this tutorial we will use the MNIST keras dataset. The MNIST dataset is a low-complexity data collection of handwritten digits containing 70,000 28x28 black and white images representing the digits zero through nine. It's used to train and test various supervised machine learning algorithms.\n"
      ]
    },
    {
      "cell_type": "code",
      "metadata": {
        "id": "mhh--Sbng-6N",
        "colab": {
          "base_uri": "https://localhost:8080/"
        },
        "outputId": "841c8869-4579-4ec3-97c5-fabf66b07efb"
      },
      "source": [
        "# split the mnist data into train and test\n",
        "(trainData, trainLabels), (testData, testLabels) = mnist.load_data()\n",
        "print(\"[INFO] train data shape: {}\".format(trainData.shape))\n",
        "print(\"[INFO] test data shape: {}\".format(testData.shape))\n",
        "print(\"[INFO] train samples: {}\".format(trainData.shape[0]))\n",
        "print(\"[INFO] test samples: {}\".format(testData.shape[0]))"
      ],
      "execution_count": 6,
      "outputs": [
        {
          "output_type": "stream",
          "text": [
            "Downloading data from https://storage.googleapis.com/tensorflow/tf-keras-datasets/mnist.npz\n",
            "11493376/11490434 [==============================] - 0s 0us/step\n",
            "11501568/11490434 [==============================] - 0s 0us/step\n",
            "[INFO] train data shape: (60000, 28, 28)\n",
            "[INFO] test data shape: (10000, 28, 28)\n",
            "[INFO] train samples: 60000\n",
            "[INFO] test samples: 10000\n"
          ],
          "name": "stdout"
        }
      ]
    },
    {
      "cell_type": "markdown",
      "metadata": {
        "id": "MixPKAJuEXA5"
      },
      "source": [
        "trainData contains the data from which our neural network (model) will learn to recognize images and trainLabels contains the labels (what's in the picture). testData will be used to check if the model can correctly recognize a digit that it hasn't sees before. To evaluate this we will use DataLabels which contains labels for the test set"
      ]
    },
    {
      "cell_type": "markdown",
      "metadata": {
        "id": "kjJUuFXTJovY"
      },
      "source": [
        "### Reshape and normalize the data\n",
        "**Reshaping**\n",
        "\n",
        "If we process an image in a neural network, it expects a vector and not a two-dimensional array (unless we use a convolution). Therefore, before further processing, we should convert the training set to 60,000 x 784 (28 * 28). To change the shape of the data we will use the reshape function.\n",
        "\n",
        "**Normalization**\n",
        "\n",
        "The value of each pixel – indicating the gray level of a given pixel – should be between 0 (typically 0 is completely black) and 255. We divide our data by 255 to make sure that it's between 0 and 1."
      ]
    },
    {
      "cell_type": "code",
      "metadata": {
        "id": "SRjnegTpg-9O",
        "colab": {
          "base_uri": "https://localhost:8080/"
        },
        "outputId": "7ba0c519-a04c-4f5c-dd69-f7cfb94d0c65"
      },
      "source": [
        "# reshape the dataset\n",
        "trainData = trainData.reshape(train_size, v_length)\n",
        "testData = testData.reshape(test_size, v_length)\n",
        "trainData = trainData.astype(\"float32\")\n",
        "testData = testData.astype(\"float32\")\n",
        "trainData /= 255\n",
        "testData /= 255\n",
        "\n",
        "print(\"[INFO] train data shape: {}\".format(trainData.shape))\n",
        "print(\"[INFO] test data shape: {}\".format(testData.shape))\n",
        "print(\"[INFO] train samples: {}\".format(trainData.shape[0]))\n",
        "print(\"[INFO] test samples: {}\".format(testData.shape[0]))"
      ],
      "execution_count": 7,
      "outputs": [
        {
          "output_type": "stream",
          "text": [
            "[INFO] train data shape: (60000, 784)\n",
            "[INFO] test data shape: (10000, 784)\n",
            "[INFO] train samples: 60000\n",
            "[INFO] test samples: 10000\n"
          ],
          "name": "stdout"
        }
      ]
    },
    {
      "cell_type": "markdown",
      "metadata": {
        "id": "co65DL6ELXqK"
      },
      "source": [
        "In the process, we want the neural network to compare two values and then calculate how far is it from the target. This cannot be done without transforming the target (labels) into so-called one-hot encoding. As a result, our “1” will be written in the following form:\n",
        "\n",
        "[0.0, 1.0, 0.0, 0.0, 0.0, 0.0, 0.0, 0.0, 0.0, 0.0]\n",
        "\n",
        "If we wanted to write the value 5 in this way, the vector would look like this:\n",
        "\n",
        "[0.0, 0.0, 0.0, 0.0, 0.0, 1.0, 0.0, 0.0, 0.0, 0.0]\n",
        "\n",
        "This operation of converting a scalar to a vector is performed by the function to_categorical().\n",
        "\n"
      ]
    },
    {
      "cell_type": "code",
      "metadata": {
        "id": "cviXB1Lwg_B6"
      },
      "source": [
        "# convert class vectors to binary class matrices --> one-hot encoding\n",
        "mTrainLabels = np_utils.to_categorical(trainLabels, num_classes)\n",
        "mTestLabels = np_utils.to_categorical(testLabels, num_classes)"
      ],
      "execution_count": 8,
      "outputs": []
    },
    {
      "cell_type": "markdown",
      "metadata": {
        "id": "IPjC48IKsm-v"
      },
      "source": [
        "## Connect to your Vectice workspace and your Vectice project"
      ]
    },
    {
      "cell_type": "markdown",
      "metadata": {
        "id": "mzLA-bl3lWcC"
      },
      "source": [
        "Here we are going to need an API token and a project token. An API token is used to secure requests between your existing tools and Vectice. You can create and manage those at the API Tokens tab in your workspace, and they impersonate you and your rights per workspace, so we strongly recommend you to avoid sharing them. A project token is used to target the project you're working on in the UI and can found (after creating a project) in the Project settings page, and anyone working on the project can see it and copy/paste it."
      ]
    },
    {
      "cell_type": "code",
      "metadata": {
        "id": "zqURm5nt3Xqd",
        "colab": {
          "base_uri": "https://localhost:8080/"
        },
        "outputId": "54d6a32a-b34f-4a86-80ef-912aeb5e46dc"
      },
      "source": [
        "# In order to use Vectice SDK, let's set up the configurations first.\n",
        "# The Vectice API key below can be generated from the UI.\n",
        "# For better security, the settings can also be put into a dedicated file called `.vectice` or `.env`.\n",
        "## Make sure that you're using the right endpoint (hint: be-beta.vectice.com)\n",
        "os.environ['VECTICE_API_ENDPOINT']= \"be-test.vectice.com\"\n",
        "os.environ['VECTICE_API_TOKEN'] = \"NKBkPJ25j.m6QdAkPDrWYwRZxXEOJLeNKBkPJ25j3VgzlypaGnM41bq89omv\"\n",
        "\n",
        "## Create a Vetice instance to connect to your project using your project token\n",
        "## Hint: Do not forget to import vectice (from vectice import Vectice)\n",
        "from vectice import Vectice\n",
        "import logging\n",
        "#logging.basicConfig(level=logging.DEBUG)\n",
        "## Complete with your project token\n",
        "vectice = Vectice(project_token=\"LgVMB55bfm68pOeBA4o8\")\n",
        "\n",
        "print(vectice)"
      ],
      "execution_count": 14,
      "outputs": [
        {
          "output_type": "stream",
          "text": [
            "<vectice.vectice.Vectice object at 0x7f6925057c10>\n"
          ],
          "name": "stdout"
        }
      ]
    },
    {
      "cell_type": "markdown",
      "metadata": {
        "id": "5jqHGBF3mvqr"
      },
      "source": [
        "Create a dataset containing your dataset to use them as input for your models. That can be done through the UI by going to your project, clicking on datasets and then click on add (you should add a connection to be able to create a dataset)\n",
        "\n",
        "Create a dataset version based on the dataset you created above"
      ]
    },
    {
      "cell_type": "code",
      "metadata": {
        "id": "NtkIo88Wm13f"
      },
      "source": [
        "input_ds_version = \"\""
      ],
      "execution_count": null,
      "outputs": []
    },
    {
      "cell_type": "code",
      "metadata": {
        "id": "iqKKyOT9m3kv"
      },
      "source": [
        "#@title Double click to show the syntax\n",
        "##We use autoversioning here\n",
        "input_ds_version = vectice.create_dataset_version().with_parent_name(\"MNIST_Dataset\")"
      ],
      "execution_count": 15,
      "outputs": []
    },
    {
      "cell_type": "markdown",
      "metadata": {
        "id": "xmvdKQCb8MIe"
      },
      "source": [
        "## Get different user versions\n",
        "Generate a random user version by calling get_random_string"
      ]
    },
    {
      "cell_type": "code",
      "metadata": {
        "id": "1_ZvAbOU8Zhb"
      },
      "source": [
        "# Let's generate some unique names for our following modeling experiments\n",
        "import random\n",
        "import string\n",
        "def get_random_string(length):\n",
        "    return \"\".join(random.choice(string.ascii_letters) for i in range(length))\n"
      ],
      "execution_count": 16,
      "outputs": []
    },
    {
      "cell_type": "markdown",
      "metadata": {
        "id": "cDOJwvVEsqRa"
      },
      "source": [
        "## Model creation"
      ]
    },
    {
      "cell_type": "markdown",
      "metadata": {
        "id": "YR-wx9PtMPOf"
      },
      "source": [
        "We are using a [sequential model](https://keras.io/getting-started/sequential-model-guide/) (a Sequential model is appropriate for a plain stack of layers where each layer has exactly one input tensor and one output tensor) and two types of layers: Dense and Dropout.\n",
        "Dense is a standard layer of the neural network in which each neuron is connected to each neuron of the next layer. Dropout is a layer that prevents the phenomenon of over-fitting, i.e. over-matching the operation of the neural network to training data. \n",
        "- We are using 3 Dense layers and 2 Dropout layers.\n",
        "-  Each layer has an activation function. Activation functions available in Keras are listed here: https://keras.io/activations/\n",
        "- Each layer as the first argument takes the size of the output vector for the layer (the first layer accepts 784 parameters and outputs 512)\n",
        "- We use Dropout in our neural network to save it from overfitting. To prevent overfitting, it randomly chooses a fraction of units and set to 0 at each update\n"
      ]
    },
    {
      "cell_type": "markdown",
      "metadata": {
        "id": "_g2Ujqy3nbD0"
      },
      "source": [
        "The following code creates a DNN (Dense Neural Network) model. Complete the code by creating and starting a job run."
      ]
    },
    {
      "cell_type": "code",
      "metadata": {
        "id": "LLiIFuXxhK9f",
        "colab": {
          "base_uri": "https://localhost:8080/"
        },
        "outputId": "08f89cf0-6bbc-4bf5-8e9f-1395101d83e2"
      },
      "source": [
        "# create a run\n",
        "# Start the run\n",
        "\n",
        "model = Sequential(name=\"Digits_recognition_sequential\")\n",
        "model.add(Dense(512, input_shape=(784,)))\n",
        "model.add(Activation(\"relu\"))\n",
        "model.add(Dropout(0.2))\n",
        "model.add(Dense(256))\n",
        "model.add(Activation(\"relu\"))\n",
        "model.add(Dropout(0.2))\n",
        "model.add(Dense(num_classes))\n",
        "model.add(Activation(\"softmax\"))\n",
        "\n",
        "# summarize the model\n",
        "model.summary()"
      ],
      "execution_count": 12,
      "outputs": [
        {
          "output_type": "stream",
          "text": [
            "Model: \"Digits_recognition_sequential\"\n",
            "_________________________________________________________________\n",
            "Layer (type)                 Output Shape              Param #   \n",
            "=================================================================\n",
            "dense (Dense)                (None, 512)               401920    \n",
            "_________________________________________________________________\n",
            "activation (Activation)      (None, 512)               0         \n",
            "_________________________________________________________________\n",
            "dropout (Dropout)            (None, 512)               0         \n",
            "_________________________________________________________________\n",
            "dense_1 (Dense)              (None, 256)               131328    \n",
            "_________________________________________________________________\n",
            "activation_1 (Activation)    (None, 256)               0         \n",
            "_________________________________________________________________\n",
            "dropout_1 (Dropout)          (None, 256)               0         \n",
            "_________________________________________________________________\n",
            "dense_2 (Dense)              (None, 10)                2570      \n",
            "_________________________________________________________________\n",
            "activation_2 (Activation)    (None, 10)                0         \n",
            "=================================================================\n",
            "Total params: 535,818\n",
            "Trainable params: 535,818\n",
            "Non-trainable params: 0\n",
            "_________________________________________________________________\n"
          ],
          "name": "stdout"
        }
      ]
    },
    {
      "cell_type": "code",
      "metadata": {
        "id": "ROtxIPt7n1mY",
        "colab": {
          "base_uri": "https://localhost:8080/",
          "height": 370
        },
        "outputId": "bf74080f-1f51-4823-8ce8-46d61ceaf010"
      },
      "source": [
        "#@title Double click to show the answer\n",
        "# create the model\n",
        "uri = \"https://github.com/SALAH-VECTICE/colab_test\"\n",
        "script_relative_path=\"blob/main//Copie_de_Handwritten_Digit_Recognition_with_keras_vectice_users.ipynb\"\n",
        "\n",
        "input_code = Vectice.create_code_version_with_github_uri(uri=uri, script_relative_path=script_relative_path)\n",
        "\n",
        "vectice.create_run(job_name = \"Train model with keras\", job_type = JobType.TRAINING)\n",
        "\n",
        "vectice.start_run(inputs=[input_ds_version, input_code])\n",
        "\n",
        "model = Sequential(name=\"Digits_recognition_sequential\")\n",
        "model.add(Dense(512, input_shape=(784,)))\n",
        "model.add(Activation(\"relu\"))\n",
        "model.add(Dropout(0.2))\n",
        "model.add(Dense(256))\n",
        "model.add(Activation(\"relu\"))\n",
        "model.add(Dropout(0.2))\n",
        "model.add(Dense(num_classes))\n",
        "model.add(Activation(\"softmax\"))\n",
        "\n",
        "# summarize the model\n",
        "model.summary()\n",
        "vectice.end_run()"
      ],
      "execution_count": 26,
      "outputs": [
        {
          "output_type": "error",
          "ename": "UnknownObjectException",
          "evalue": "ignored",
          "traceback": [
            "\u001b[0;31m---------------------------------------------------------------------------\u001b[0m",
            "\u001b[0;31mUnknownObjectException\u001b[0m                    Traceback (most recent call last)",
            "\u001b[0;32m<ipython-input-26-36c51ee425d1>\u001b[0m in \u001b[0;36m<module>\u001b[0;34m()\u001b[0m\n\u001b[1;32m      4\u001b[0m \u001b[0mscript_relative_path\u001b[0m\u001b[0;34m=\u001b[0m\u001b[0;34m\"blob/main//Copie_de_Handwritten_Digit_Recognition_with_keras_vectice_users.ipynb\"\u001b[0m\u001b[0;34m\u001b[0m\u001b[0;34m\u001b[0m\u001b[0m\n\u001b[1;32m      5\u001b[0m \u001b[0;34m\u001b[0m\u001b[0m\n\u001b[0;32m----> 6\u001b[0;31m \u001b[0minput_code\u001b[0m \u001b[0;34m=\u001b[0m \u001b[0mVectice\u001b[0m\u001b[0;34m.\u001b[0m\u001b[0mcreate_code_version_with_github_uri\u001b[0m\u001b[0;34m(\u001b[0m\u001b[0muri\u001b[0m\u001b[0;34m=\u001b[0m\u001b[0muri\u001b[0m\u001b[0;34m,\u001b[0m \u001b[0mscript_relative_path\u001b[0m\u001b[0;34m=\u001b[0m\u001b[0mscript_relative_path\u001b[0m\u001b[0;34m)\u001b[0m\u001b[0;34m\u001b[0m\u001b[0;34m\u001b[0m\u001b[0m\n\u001b[0m\u001b[1;32m      7\u001b[0m \u001b[0;34m\u001b[0m\u001b[0m\n\u001b[1;32m      8\u001b[0m \u001b[0mvectice\u001b[0m\u001b[0;34m.\u001b[0m\u001b[0mcreate_run\u001b[0m\u001b[0;34m(\u001b[0m\u001b[0mjob_name\u001b[0m \u001b[0;34m=\u001b[0m \u001b[0;34m\"Train model with keras\"\u001b[0m\u001b[0;34m,\u001b[0m \u001b[0mjob_type\u001b[0m \u001b[0;34m=\u001b[0m \u001b[0mJobType\u001b[0m\u001b[0;34m.\u001b[0m\u001b[0mTRAINING\u001b[0m\u001b[0;34m)\u001b[0m\u001b[0;34m\u001b[0m\u001b[0;34m\u001b[0m\u001b[0m\n",
            "\u001b[0;32m/usr/local/lib/python3.7/dist-packages/vectice/vectice.py\u001b[0m in \u001b[0;36mcreate_code_version_with_github_uri\u001b[0;34m(cls, uri, script_relative_path, login_or_token, password, jwt)\u001b[0m\n\u001b[1;32m    175\u001b[0m         \u001b[0;34m:\u001b[0m\u001b[0;32mreturn\u001b[0m\u001b[0;34m:\u001b[0m \u001b[0ma\u001b[0m \u001b[0mCodeVersion\u001b[0m \u001b[0;32mor\u001b[0m \u001b[0;32mNone\u001b[0m \u001b[0;32mif\u001b[0m \u001b[0mthe\u001b[0m \u001b[0mgithub\u001b[0m \u001b[0mrepository\u001b[0m \u001b[0mwas\u001b[0m \u001b[0;32mnot\u001b[0m \u001b[0mfound\u001b[0m \u001b[0;32mor\u001b[0m \u001b[0;32mis\u001b[0m \u001b[0;32mnot\u001b[0m \u001b[0maccessible\u001b[0m\u001b[0;34m\u001b[0m\u001b[0;34m\u001b[0m\u001b[0m\n\u001b[1;32m    176\u001b[0m         \"\"\"\n\u001b[0;32m--> 177\u001b[0;31m         \u001b[0;32mreturn\u001b[0m \u001b[0mArtifacts\u001b[0m\u001b[0;34m.\u001b[0m\u001b[0mcreate_code_version_with_github_uri\u001b[0m\u001b[0;34m(\u001b[0m\u001b[0muri\u001b[0m\u001b[0;34m,\u001b[0m \u001b[0mscript_relative_path\u001b[0m\u001b[0;34m,\u001b[0m \u001b[0mlogin_or_token\u001b[0m\u001b[0;34m,\u001b[0m \u001b[0mpassword\u001b[0m\u001b[0;34m,\u001b[0m \u001b[0mjwt\u001b[0m\u001b[0;34m)\u001b[0m\u001b[0;34m\u001b[0m\u001b[0;34m\u001b[0m\u001b[0m\n\u001b[0m\u001b[1;32m    178\u001b[0m \u001b[0;34m\u001b[0m\u001b[0m\n\u001b[1;32m    179\u001b[0m     \u001b[0;34m@\u001b[0m\u001b[0mclassmethod\u001b[0m\u001b[0;34m\u001b[0m\u001b[0;34m\u001b[0m\u001b[0m\n",
            "\u001b[0;32m/usr/local/lib/python3.7/dist-packages/vectice/models/artifacts.py\u001b[0m in \u001b[0;36mcreate_code_version_with_github_uri\u001b[0;34m(cls, uri, script_relative_path, login_or_token, password, jwt)\u001b[0m\n\u001b[1;32m     60\u001b[0m         \u001b[0;34m:\u001b[0m\u001b[0;32mreturn\u001b[0m\u001b[0;34m:\u001b[0m \u001b[0ma\u001b[0m \u001b[0mCodeVersion\u001b[0m \u001b[0;32mor\u001b[0m \u001b[0;32mNone\u001b[0m \u001b[0;32mif\u001b[0m \u001b[0mthe\u001b[0m \u001b[0mgithub\u001b[0m \u001b[0mrepository\u001b[0m \u001b[0mwas\u001b[0m \u001b[0;32mnot\u001b[0m \u001b[0mfound\u001b[0m \u001b[0;32mor\u001b[0m \u001b[0;32mis\u001b[0m \u001b[0;32mnot\u001b[0m \u001b[0maccessible\u001b[0m\u001b[0;34m\u001b[0m\u001b[0;34m\u001b[0m\u001b[0m\n\u001b[1;32m     61\u001b[0m         \"\"\"\n\u001b[0;32m---> 62\u001b[0;31m         \u001b[0;32mreturn\u001b[0m \u001b[0mCodeVersionArtifact\u001b[0m\u001b[0;34m.\u001b[0m\u001b[0mcreate_from_github_uri\u001b[0m\u001b[0;34m(\u001b[0m\u001b[0muri\u001b[0m\u001b[0;34m,\u001b[0m \u001b[0mscript_relative_path\u001b[0m\u001b[0;34m,\u001b[0m \u001b[0mlogin_or_token\u001b[0m\u001b[0;34m,\u001b[0m \u001b[0mpassword\u001b[0m\u001b[0;34m,\u001b[0m \u001b[0mjwt\u001b[0m\u001b[0;34m)\u001b[0m\u001b[0;34m\u001b[0m\u001b[0;34m\u001b[0m\u001b[0m\n\u001b[0m",
            "\u001b[0;32m/usr/local/lib/python3.7/dist-packages/vectice/models/code_version_artifact.py\u001b[0m in \u001b[0;36mcreate_from_github_uri\u001b[0;34m(cls, uri, script_relative_path, login_or_token, password, jwt)\u001b[0m\n\u001b[1;32m     57\u001b[0m         \u001b[0;34m:\u001b[0m\u001b[0;32mreturn\u001b[0m\u001b[0;34m:\u001b[0m\u001b[0;34m\u001b[0m\u001b[0;34m\u001b[0m\u001b[0m\n\u001b[1;32m     58\u001b[0m         \"\"\"\n\u001b[0;32m---> 59\u001b[0;31m         \u001b[0mgit_version\u001b[0m \u001b[0;34m=\u001b[0m \u001b[0mGitVersion\u001b[0m\u001b[0;34m.\u001b[0m\u001b[0mcreate_from_github_uri\u001b[0m\u001b[0;34m(\u001b[0m\u001b[0muri\u001b[0m\u001b[0;34m,\u001b[0m \u001b[0mscript_relative_path\u001b[0m\u001b[0;34m,\u001b[0m \u001b[0mlogin_or_token\u001b[0m\u001b[0;34m,\u001b[0m \u001b[0mpassword\u001b[0m\u001b[0;34m,\u001b[0m \u001b[0mjwt\u001b[0m\u001b[0;34m)\u001b[0m\u001b[0;34m\u001b[0m\u001b[0;34m\u001b[0m\u001b[0m\n\u001b[0m\u001b[1;32m     60\u001b[0m         \u001b[0;32mif\u001b[0m \u001b[0mgit_version\u001b[0m \u001b[0;32mis\u001b[0m \u001b[0;32mnot\u001b[0m \u001b[0;32mNone\u001b[0m\u001b[0;34m:\u001b[0m\u001b[0;34m\u001b[0m\u001b[0;34m\u001b[0m\u001b[0m\n\u001b[1;32m     61\u001b[0m             \u001b[0;32mreturn\u001b[0m \u001b[0mcls\u001b[0m\u001b[0;34m(\u001b[0m\u001b[0mCodeVersion\u001b[0m\u001b[0;34m(\u001b[0m\u001b[0mgit_version\u001b[0m\u001b[0;34m)\u001b[0m\u001b[0;34m)\u001b[0m\u001b[0;34m\u001b[0m\u001b[0;34m\u001b[0m\u001b[0m\n",
            "\u001b[0;32m/usr/local/lib/python3.7/dist-packages/vectice/models/git_version.py\u001b[0m in \u001b[0;36mcreate_from_github_uri\u001b[0;34m(cls, uri, script_relative_path, login_or_token, password, jwt)\u001b[0m\n\u001b[1;32m    128\u001b[0m         \u001b[0mcls\u001b[0m\u001b[0;34m,\u001b[0m \u001b[0muri\u001b[0m\u001b[0;34m:\u001b[0m \u001b[0mstr\u001b[0m\u001b[0;34m,\u001b[0m \u001b[0mscript_relative_path\u001b[0m\u001b[0;34m:\u001b[0m \u001b[0mOptional\u001b[0m\u001b[0;34m[\u001b[0m\u001b[0mstr\u001b[0m\u001b[0;34m]\u001b[0m \u001b[0;34m=\u001b[0m \u001b[0;32mNone\u001b[0m\u001b[0;34m,\u001b[0m \u001b[0mlogin_or_token\u001b[0m\u001b[0;34m=\u001b[0m\u001b[0;32mNone\u001b[0m\u001b[0;34m,\u001b[0m \u001b[0mpassword\u001b[0m\u001b[0;34m=\u001b[0m\u001b[0;32mNone\u001b[0m\u001b[0;34m,\u001b[0m \u001b[0mjwt\u001b[0m\u001b[0;34m=\u001b[0m\u001b[0;32mNone\u001b[0m\u001b[0;34m\u001b[0m\u001b[0;34m\u001b[0m\u001b[0m\n\u001b[1;32m    129\u001b[0m     ):\n\u001b[0;32m--> 130\u001b[0;31m         \u001b[0;32mreturn\u001b[0m \u001b[0m_create_git_version_from_uri\u001b[0m\u001b[0;34m(\u001b[0m\u001b[0muri\u001b[0m\u001b[0;34m,\u001b[0m \u001b[0mscript_relative_path\u001b[0m\u001b[0;34m,\u001b[0m \u001b[0mlogin_or_token\u001b[0m\u001b[0;34m,\u001b[0m \u001b[0mpassword\u001b[0m\u001b[0;34m,\u001b[0m \u001b[0mjwt\u001b[0m\u001b[0;34m)\u001b[0m\u001b[0;34m\u001b[0m\u001b[0;34m\u001b[0m\u001b[0m\n\u001b[0m",
            "\u001b[0;32m/usr/local/lib/python3.7/dist-packages/vectice/models/git_version.py\u001b[0m in \u001b[0;36m_create_git_version_from_uri\u001b[0;34m(uri, script_relative_path, login_or_token, password, jwt)\u001b[0m\n\u001b[1;32m     86\u001b[0m         \u001b[0;32mreturn\u001b[0m \u001b[0;32mNone\u001b[0m\u001b[0;34m\u001b[0m\u001b[0;34m\u001b[0m\u001b[0m\n\u001b[1;32m     87\u001b[0m     \u001b[0morganisation\u001b[0m\u001b[0;34m,\u001b[0m \u001b[0mrepository_name\u001b[0m\u001b[0;34m,\u001b[0m \u001b[0mbranch\u001b[0m \u001b[0;34m=\u001b[0m \u001b[0mresult\u001b[0m\u001b[0;34m\u001b[0m\u001b[0;34m\u001b[0m\u001b[0m\n\u001b[0;32m---> 88\u001b[0;31m     \u001b[0mgithub_repository\u001b[0m \u001b[0;34m=\u001b[0m \u001b[0mg\u001b[0m\u001b[0;34m.\u001b[0m\u001b[0mget_repo\u001b[0m\u001b[0;34m(\u001b[0m\u001b[0;34mf\"{organisation}/{repository_name}\"\u001b[0m\u001b[0;34m)\u001b[0m\u001b[0;34m\u001b[0m\u001b[0;34m\u001b[0m\u001b[0m\n\u001b[0m\u001b[1;32m     89\u001b[0m     \u001b[0;32mif\u001b[0m \u001b[0mbranch\u001b[0m \u001b[0;32mis\u001b[0m \u001b[0;32mNone\u001b[0m\u001b[0;34m:\u001b[0m\u001b[0;34m\u001b[0m\u001b[0;34m\u001b[0m\u001b[0m\n\u001b[1;32m     90\u001b[0m         \u001b[0mbranch_name\u001b[0m \u001b[0;34m=\u001b[0m \u001b[0mgithub_repository\u001b[0m\u001b[0;34m.\u001b[0m\u001b[0mdefault_branch\u001b[0m\u001b[0;34m\u001b[0m\u001b[0;34m\u001b[0m\u001b[0m\n",
            "\u001b[0;32m/usr/local/lib/python3.7/dist-packages/github/MainClass.py\u001b[0m in \u001b[0;36mget_repo\u001b[0;34m(self, full_name_or_id, lazy)\u001b[0m\n\u001b[1;32m    328\u001b[0m                 \u001b[0mself\u001b[0m\u001b[0;34m.\u001b[0m\u001b[0m__requester\u001b[0m\u001b[0;34m,\u001b[0m \u001b[0;34m{\u001b[0m\u001b[0;34m}\u001b[0m\u001b[0;34m,\u001b[0m \u001b[0;34m{\u001b[0m\u001b[0;34m\"url\"\u001b[0m\u001b[0;34m:\u001b[0m \u001b[0murl\u001b[0m\u001b[0;34m}\u001b[0m\u001b[0;34m,\u001b[0m \u001b[0mcompleted\u001b[0m\u001b[0;34m=\u001b[0m\u001b[0;32mFalse\u001b[0m\u001b[0;34m\u001b[0m\u001b[0;34m\u001b[0m\u001b[0m\n\u001b[1;32m    329\u001b[0m             )\n\u001b[0;32m--> 330\u001b[0;31m         \u001b[0mheaders\u001b[0m\u001b[0;34m,\u001b[0m \u001b[0mdata\u001b[0m \u001b[0;34m=\u001b[0m \u001b[0mself\u001b[0m\u001b[0;34m.\u001b[0m\u001b[0m__requester\u001b[0m\u001b[0;34m.\u001b[0m\u001b[0mrequestJsonAndCheck\u001b[0m\u001b[0;34m(\u001b[0m\u001b[0;34m\"GET\"\u001b[0m\u001b[0;34m,\u001b[0m \u001b[0murl\u001b[0m\u001b[0;34m)\u001b[0m\u001b[0;34m\u001b[0m\u001b[0;34m\u001b[0m\u001b[0m\n\u001b[0m\u001b[1;32m    331\u001b[0m         \u001b[0;32mreturn\u001b[0m \u001b[0mRepository\u001b[0m\u001b[0;34m.\u001b[0m\u001b[0mRepository\u001b[0m\u001b[0;34m(\u001b[0m\u001b[0mself\u001b[0m\u001b[0;34m.\u001b[0m\u001b[0m__requester\u001b[0m\u001b[0;34m,\u001b[0m \u001b[0mheaders\u001b[0m\u001b[0;34m,\u001b[0m \u001b[0mdata\u001b[0m\u001b[0;34m,\u001b[0m \u001b[0mcompleted\u001b[0m\u001b[0;34m=\u001b[0m\u001b[0;32mTrue\u001b[0m\u001b[0;34m)\u001b[0m\u001b[0;34m\u001b[0m\u001b[0;34m\u001b[0m\u001b[0m\n\u001b[1;32m    332\u001b[0m \u001b[0;34m\u001b[0m\u001b[0m\n",
            "\u001b[0;32m/usr/local/lib/python3.7/dist-packages/github/Requester.py\u001b[0m in \u001b[0;36mrequestJsonAndCheck\u001b[0;34m(self, verb, url, parameters, headers, input)\u001b[0m\n\u001b[1;32m    353\u001b[0m         return self.__check(\n\u001b[1;32m    354\u001b[0m             *self.requestJson(\n\u001b[0;32m--> 355\u001b[0;31m                 \u001b[0mverb\u001b[0m\u001b[0;34m,\u001b[0m \u001b[0murl\u001b[0m\u001b[0;34m,\u001b[0m \u001b[0mparameters\u001b[0m\u001b[0;34m,\u001b[0m \u001b[0mheaders\u001b[0m\u001b[0;34m,\u001b[0m \u001b[0minput\u001b[0m\u001b[0;34m,\u001b[0m \u001b[0mself\u001b[0m\u001b[0;34m.\u001b[0m\u001b[0m__customConnection\u001b[0m\u001b[0;34m(\u001b[0m\u001b[0murl\u001b[0m\u001b[0;34m)\u001b[0m\u001b[0;34m\u001b[0m\u001b[0;34m\u001b[0m\u001b[0m\n\u001b[0m\u001b[1;32m    356\u001b[0m             )\n\u001b[1;32m    357\u001b[0m         )\n",
            "\u001b[0;32m/usr/local/lib/python3.7/dist-packages/github/Requester.py\u001b[0m in \u001b[0;36m__check\u001b[0;34m(self, status, responseHeaders, output)\u001b[0m\n\u001b[1;32m    376\u001b[0m         \u001b[0moutput\u001b[0m \u001b[0;34m=\u001b[0m \u001b[0mself\u001b[0m\u001b[0;34m.\u001b[0m\u001b[0m__structuredFromJson\u001b[0m\u001b[0;34m(\u001b[0m\u001b[0moutput\u001b[0m\u001b[0;34m)\u001b[0m\u001b[0;34m\u001b[0m\u001b[0;34m\u001b[0m\u001b[0m\n\u001b[1;32m    377\u001b[0m         \u001b[0;32mif\u001b[0m \u001b[0mstatus\u001b[0m \u001b[0;34m>=\u001b[0m \u001b[0;36m400\u001b[0m\u001b[0;34m:\u001b[0m\u001b[0;34m\u001b[0m\u001b[0;34m\u001b[0m\u001b[0m\n\u001b[0;32m--> 378\u001b[0;31m             \u001b[0;32mraise\u001b[0m \u001b[0mself\u001b[0m\u001b[0;34m.\u001b[0m\u001b[0m__createException\u001b[0m\u001b[0;34m(\u001b[0m\u001b[0mstatus\u001b[0m\u001b[0;34m,\u001b[0m \u001b[0mresponseHeaders\u001b[0m\u001b[0;34m,\u001b[0m \u001b[0moutput\u001b[0m\u001b[0;34m)\u001b[0m\u001b[0;34m\u001b[0m\u001b[0;34m\u001b[0m\u001b[0m\n\u001b[0m\u001b[1;32m    379\u001b[0m         \u001b[0;32mreturn\u001b[0m \u001b[0mresponseHeaders\u001b[0m\u001b[0;34m,\u001b[0m \u001b[0moutput\u001b[0m\u001b[0;34m\u001b[0m\u001b[0;34m\u001b[0m\u001b[0m\n\u001b[1;32m    380\u001b[0m \u001b[0;34m\u001b[0m\u001b[0m\n",
            "\u001b[0;31mUnknownObjectException\u001b[0m: 404 {\"message\": \"Not Found\", \"documentation_url\": \"https://docs.github.com/rest/reference/repos#get-a-repository\"}"
          ]
        }
      ]
    },
    {
      "cell_type": "markdown",
      "metadata": {
        "id": "upVZTZT5oJa4"
      },
      "source": [
        "Here we define a list containing information about each layer in our neural network"
      ]
    },
    {
      "cell_type": "code",
      "metadata": {
        "id": "2N4jewVK1Tm5"
      },
      "source": [
        "layers_list = []\n",
        "for layer in model.layers:\n",
        "  layers_list+=[(\"Layer name\", layer.name+\" layer\"), (layer.name+\" layer \"+\" number of input parameters\", layer.input_shape[1]),(layer.name+\" layer \"+\" number of output parameters\",layer.output_shape[1])]\n",
        "layers_list"
      ],
      "execution_count": null,
      "outputs": []
    },
    {
      "cell_type": "markdown",
      "metadata": {
        "id": "Vb60dwIbOHqv"
      },
      "source": [
        "After creating the model, we have to compile it. To do this, we call the method compile specifying:\n",
        "- Type of optimizer: https://keras.io/optimizers/\n",
        "- Loss function: https://keras.io/losses/\n",
        "- Optional metrics that we want for our model to register (accuracy for example)"
      ]
    },
    {
      "cell_type": "code",
      "metadata": {
        "id": "MsvrDVHlhLAS"
      },
      "source": [
        "# compile the model\n",
        "model.compile(loss=\"categorical_crossentropy\", optimizer=\"adam\", metrics=[\"accuracy\"])"
      ],
      "execution_count": null,
      "outputs": []
    },
    {
      "cell_type": "markdown",
      "metadata": {
        "id": "pKWRdWwpOeSr"
      },
      "source": [
        "Implementing the training of the neural network by using the fit method.\n",
        "\n",
        "You can try to play with the network – change the number of epochs, batch_size, type of optimizer or the structure of the network itself."
      ]
    },
    {
      "cell_type": "code",
      "metadata": {
        "id": "zGIZ0XC2hLC9"
      },
      "source": [
        "# fit the model\n",
        "history = model.fit(trainData, mTrainLabels, validation_data=(testData, mTestLabels), batch_size=batch_size, epochs=nb_epoch, verbose=2)"
      ],
      "execution_count": null,
      "outputs": []
    },
    {
      "cell_type": "markdown",
      "metadata": {
        "id": "XToHWjdpsuUN"
      },
      "source": [
        "## Model evaluation"
      ]
    },
    {
      "cell_type": "markdown",
      "metadata": {
        "id": "DVYVBG83oUyf"
      },
      "source": [
        "Here we calculate some metrics in order to evaluate the model.\n",
        "We already created a job run aboce and started it. Please complete the code by creating a model version, adding the metrics and the parameters (properties) to it and end the run."
      ]
    },
    {
      "cell_type": "code",
      "metadata": {
        "id": "OUO9N6nzyqd6"
      },
      "source": [
        "# print the history keys\n",
        "print(history.history.keys())\n",
        "# evaluate the model\n",
        "scores = model.evaluate(testData, mTestLabels, verbose=0)\n",
        "\n",
        "# history plot for accuracy\n",
        "plt.plot(history.history[\"accuracy\"])\n",
        "plt.plot(history.history[\"val_accuracy\"])\n",
        "plt.title(\"Model Accuracy\")\n",
        "plt.xlabel(\"Epoch\")\n",
        "plt.ylabel(\"Accuracy\")\n",
        "plt.legend([\"train\", \"test\"], loc=\"upper left\")\n",
        "plt.show()\n",
        "\n",
        "# history plot for accuracy\n",
        "plt.plot(history.history[\"loss\"])\n",
        "plt.plot(history.history[\"val_loss\"])\n",
        "plt.title(\"Model Loss\")\n",
        "plt.xlabel(\"Epoch\")\n",
        "plt.ylabel(\"Loss\")\n",
        "plt.legend([\"train\", \"test\"], loc=\"upper left\")\n",
        "plt.show()\n",
        "\n",
        "# print the results\n",
        "print(\"[INFO] test score - {}\".format(scores[0]))\n",
        "print(\"[INFO] test accuracy - {}\".format(scores[1]))\n",
        "\n",
        "## Create metrics list\n",
        "## Create properties list (you can use the list layers_list we defined above)\n",
        "##Create model_version()\n",
        "##End the job run you created"
      ],
      "execution_count": null,
      "outputs": []
    },
    {
      "cell_type": "code",
      "metadata": {
        "id": "507txQ-Wov6m",
        "cellView": "form"
      },
      "source": [
        "#@title double click to show the answer\n",
        "# print the history keys\n",
        "print(history.history.keys())\n",
        "# evaluate the model\n",
        "scores = model.evaluate(testData, mTestLabels, verbose=0)\n",
        "\n",
        "# history plot for accuracy\n",
        "plt.plot(history.history[\"accuracy\"])\n",
        "plt.plot(history.history[\"val_accuracy\"])\n",
        "plt.title(\"Model Accuracy\")\n",
        "plt.xlabel(\"Epoch\")\n",
        "plt.ylabel(\"Accuracy\")\n",
        "plt.legend([\"train\", \"test\"], loc=\"upper left\")\n",
        "plt.show()\n",
        "\n",
        "# history plot for accuracy\n",
        "plt.plot(history.history[\"loss\"])\n",
        "plt.plot(history.history[\"val_loss\"])\n",
        "plt.title(\"Model Loss\")\n",
        "plt.xlabel(\"Epoch\")\n",
        "plt.ylabel(\"Loss\")\n",
        "plt.legend([\"train\", \"test\"], loc=\"upper left\")\n",
        "plt.show()\n",
        "\n",
        "# print the results\n",
        "print(\"[INFO] test score - {}\".format(scores[0]))\n",
        "print(\"[INFO] test accuracy - {}\".format(scores[1]))\n",
        "\n",
        "\n",
        "metrics = [('test score',scores[0]), (\"test accuracy\",scores[1])]\n",
        "\n",
        "properties = [(\"Algorithm\",\"Neural networks\"), (\"Model\", \"Sequential (keras)\")] +layers_list+ [(\"Number of epochs\",nb_epoch), (\"number of digit classes (from 0 to 9) \", num_classes), (\"Batch size \", batch_size), (\"Number of images in the training set \", train_size), (\"Number of images in the test set \", test_size), (\"Dimension of flattened input image size\", v_length)]\n",
        "model_version1 = vectice.create_model_version().with_parent_name(\"NN\").with_algorithm(\"Neural networks\").with_properties(properties).with_metrics(metrics).with_user_version(get_random_string(12))\n",
        "\n",
        "\n",
        "vectice.end_run(outputs=[model_version1])"
      ],
      "execution_count": null,
      "outputs": []
    },
    {
      "cell_type": "markdown",
      "metadata": {
        "id": "QrrMF9lIQomF"
      },
      "source": [
        "The model's got an accuracy of 0.9826 on the test set. The difference between accuracy on the training and test set is only 0.01% and seems great"
      ]
    },
    {
      "cell_type": "markdown",
      "metadata": {
        "id": "UaVP2yNNS8Q2"
      },
      "source": [
        "We can use our testData to test the model on picture it hasn't seen before. We can do so by using model.predection in keras"
      ]
    },
    {
      "cell_type": "code",
      "metadata": {
        "id": "Ldn0rYMeQaWF"
      },
      "source": [
        "predictions = model.predict(testData[0:100])"
      ],
      "execution_count": null,
      "outputs": []
    },
    {
      "cell_type": "markdown",
      "metadata": {
        "id": "6kEppwsiTaLK"
      },
      "source": [
        "The method returns a 100-element scoreboard. Each element indicates the probabilities that the input belongs to a given class."
      ]
    },
    {
      "cell_type": "code",
      "metadata": {
        "id": "42yVrS_6Rln1"
      },
      "source": [
        "predictions[0]"
      ],
      "execution_count": null,
      "outputs": []
    },
    {
      "cell_type": "markdown",
      "metadata": {
        "id": "RAUz8f-wTgaR"
      },
      "source": [
        "As we can see in this example the probabilities are very low except for the eight element (class 7, counted from 0) wich has a probability of 1. So the model predicted that it's 7. Let's verify that"
      ]
    },
    {
      "cell_type": "code",
      "metadata": {
        "id": "7z4iqIFtg_FA"
      },
      "source": [
        "np.argmax(predictions[0])"
      ],
      "execution_count": null,
      "outputs": []
    },
    {
      "cell_type": "code",
      "metadata": {
        "id": "iNUwHh2JRtRI"
      },
      "source": [
        "plt.imshow(testData[0].reshape(28,28))"
      ],
      "execution_count": null,
      "outputs": []
    },
    {
      "cell_type": "markdown",
      "metadata": {
        "id": "EWMa_oBxUErL"
      },
      "source": [
        "As you can see the number is 7"
      ]
    },
    {
      "cell_type": "markdown",
      "metadata": {
        "id": "B6kypNDZUJx4"
      },
      "source": [
        "We can take a look at the predictions (after treating the probabilities with the argmax function and specifying to the function in what dimension it should analyze data (in our case, along the y axis, i.e. axis = 1) because we are using a two-dimensional array)"
      ]
    },
    {
      "cell_type": "code",
      "metadata": {
        "id": "NAOWWHDfR0ge"
      },
      "source": [
        "np.argmax(predictions, axis=1)"
      ],
      "execution_count": null,
      "outputs": []
    },
    {
      "cell_type": "markdown",
      "metadata": {
        "id": "fkjtxaoNUJLg"
      },
      "source": [
        "We can check the labels for the data on which the model did the predictions and compare"
      ]
    },
    {
      "cell_type": "code",
      "metadata": {
        "id": "Q3zPtqWlR1TI"
      },
      "source": [
        "testLabels[0:100]"
      ],
      "execution_count": null,
      "outputs": []
    },
    {
      "cell_type": "code",
      "metadata": {
        "id": "bDzpUIIyST4r"
      },
      "source": [
        "np.argmax(predictions, axis=1) == testLabels[0:100]"
      ],
      "execution_count": null,
      "outputs": []
    },
    {
      "cell_type": "code",
      "metadata": {
        "id": "tjUaQJEESZQH"
      },
      "source": [
        "np.mean(np.argmax(predictions, axis=1) == testLabels[0:100])\n"
      ],
      "execution_count": null,
      "outputs": []
    },
    {
      "cell_type": "markdown",
      "metadata": {
        "id": "7OEr9xp0WYPz"
      },
      "source": [
        "The predictions coincide with reality"
      ]
    },
    {
      "cell_type": "markdown",
      "metadata": {
        "id": "pRAvWenJU-0V"
      },
      "source": [
        "We can also verify if there are wrong predictions by running this cell which uses Numpy's argmin function"
      ]
    },
    {
      "cell_type": "code",
      "metadata": {
        "id": "BD-RQuW8SitL"
      },
      "source": [
        "wrong_pred = np.argmin(np.argmax(predictions, axis=1) == testLabels[0:100])\n",
        "wrong_pred"
      ],
      "execution_count": null,
      "outputs": []
    },
    {
      "cell_type": "markdown",
      "metadata": {
        "id": "yOCc44-MVg5Q"
      },
      "source": [
        "No element was wrongly predicted (for example, if wrong_pred=2 we can say that the the element in the position 2 is wrongly predicted)"
      ]
    }
  ]
}